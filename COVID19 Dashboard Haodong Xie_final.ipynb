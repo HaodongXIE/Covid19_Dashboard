{
 "cells": [
  {
   "cell_type": "code",
   "execution_count": 53,
   "metadata": {},
   "outputs": [],
   "source": [
    "import ipywidgets as wdg\n",
    "import pandas as pd\n",
    "import matplotlib.pyplot as plt\n",
    "import json\n",
    "import time\n",
    "from uk_covid19 import Cov19API\n",
    "# import module"
   ]
  },
  {
   "cell_type": "code",
   "execution_count": 54,
   "metadata": {},
   "outputs": [],
   "source": [
    "%matplotlib inline\n",
    "# make figures larger\n",
    "plt.rcParams['figure.dpi'] = 100"
   ]
  },
  {
   "cell_type": "code",
   "execution_count": 55,
   "metadata": {},
   "outputs": [],
   "source": [
    "def parse_date(datestring):#convert a data sting\n",
    "    return pd.to_datetime(datestring, format=\"%Y-%m-%d\")"
   ]
  },
  {
   "cell_type": "code",
   "execution_count": 56,
   "metadata": {},
   "outputs": [],
   "source": [
    "def Access_API_England():\n",
    "    filters_England = ['areaType=nation','areaName=England']\n",
    "    structure_testbypillar_plancap = { 'date':'date',\n",
    "               'pillarone':'cumPillarOneTestsByPublishDate',\n",
    "               'pillartwo':'cumPillarTwoTestsByPublishDate',\n",
    "               'pillarthree':'cumPillarThreeTestsByPublishDate',\n",
    "               'pillarfour':'cumPillarFourTestsByPublishDate'}\n",
    "    api_E = Cov19API(filters=filters_England, structure=structure_testbypillar_plancap)\n",
    "    TESTPILLAR_E=api_E.get_json()\n",
    "    with open(\"TESTPILLAR_E.json\", \"wt\") as A_E:\n",
    "        json.dump(TESTPILLAR_E,  A_E)\n",
    "       "
   ]
  },
  {
   "cell_type": "code",
   "execution_count": 57,
   "metadata": {},
   "outputs": [],
   "source": [
    "def Access_API_Scotland():\n",
    "    filters_Scotland = ['areaType=nation','areaName=Scotland']\n",
    "    structure_testbypillar_plancap = { 'date':'date',\n",
    "               'pillarone':'cumPillarOneTestsByPublishDate',\n",
    "               'pillartwo':'cumPillarTwoTestsByPublishDate',\n",
    "               'pillarthree':'cumPillarThreeTestsByPublishDate',\n",
    "               'pillarfour':'cumPillarFourTestsByPublishDate'}\n",
    "    api_S = Cov19API(filters=filters_Scotland, structure=structure_testbypillar_plancap)\n",
    "    TESTPILLAR_S=api_S.get_json()\n",
    "    with open(\"TESTPILLAR_S.json\", \"wt\") as A_S:\n",
    "        json.dump(TESTPILLAR_S,  A_S)\n",
    "    "
   ]
  },
  {
   "cell_type": "code",
   "execution_count": 58,
   "metadata": {},
   "outputs": [],
   "source": [
    "def Access_API_Wale():\n",
    "    filters_Wales = ['areaType=nation','areaName=Wales']\n",
    "    structure_testbypillar_plancap = { 'date':'date',\n",
    "               'pillarone':'cumPillarOneTestsByPublishDate',\n",
    "               'pillartwo':'cumPillarTwoTestsByPublishDate',\n",
    "               'pillarthree':'cumPillarThreeTestsByPublishDate',\n",
    "               'pillarfour':'cumPillarFourTestsByPublishDate'}\n",
    "    api_W = Cov19API(filters=filters_Wales, structure=structure_testbypillar_plancap)\n",
    "    TESTPILLAR_W=api_W.get_json()\n",
    "    with open(\"TESTPILLAR_W.json\", \"wt\") as A_W:\n",
    "        json.dump(TESTPILLAR_W,  A_W)\n",
    "     "
   ]
  },
  {
   "cell_type": "code",
   "execution_count": 59,
   "metadata": {},
   "outputs": [],
   "source": [
    "def Access_API_NorthernIreland():\n",
    "    filters_NorthernIreland = ['areaType=nation','areaName=Northern Ireland']\n",
    "    structure_testbypillar_plancap = { 'date':'date',\n",
    "               'pillarone':'cumPillarOneTestsByPublishDate',\n",
    "               'pillartwo':'cumPillarTwoTestsByPublishDate',\n",
    "               'pillarthree':'cumPillarThreeTestsByPublishDate',\n",
    "               'pillarfour':'cumPillarFourTestsByPublishDate'}\n",
    "    api_NI = Cov19API(filters=filters_NorthernIreland, structure=structure_testbypillar_plancap)\n",
    "    TESTPILLAR_NI=api_NI.get_json()\n",
    "    with open(\"TESTPILLAR_NI.json\", \"wt\") as A_NI:\n",
    "        json.dump(TESTPILLAR_NI,  A_NI)\n",
    "    "
   ]
  },
  {
   "cell_type": "code",
   "execution_count": 60,
   "metadata": {},
   "outputs": [],
   "source": [
    "with open(\"TESTPILLAR_E.json\", \"rt\") as PILLAR_E:\n",
    "    data_E=json.load(PILLAR_E)\n",
    "with open(\"TESTPILLAR_S.json\", \"rt\") as PILLAR_S:\n",
    "    data_S=json.load(PILLAR_S)\n",
    "with open(\"TESTPILLAR_W.json\", \"rt\") as PILLAR_W:\n",
    "    data_W=json.load(PILLAR_W)\n",
    "with open(\"TESTPILLAR_NI.json\", \"rt\") as PILLAR_NI:\n",
    "    data_NI=json.load(PILLAR_NI)"
   ]
  },
  {
   "cell_type": "code",
   "execution_count": 61,
   "metadata": {},
   "outputs": [],
   "source": [
    "def wrangle_data(data):\n",
    "    datalist=data['data']\n",
    "    dates=[dictionary['date'] for dictionary in datalist ]\n",
    "    dates.sort()\n",
    "    \n",
    "    startdate=parse_date(dates[0])\n",
    "    enddate=parse_date(dates[-1])\n",
    "    index=pd.date_range(startdate, enddate, freq='D')\n",
    "    timeseriesdf=pd.DataFrame(index=index, columns=['pillarone', 'pillartwo', 'pillarthree','pillarfour'])\n",
    "    \n",
    "    for entry in datalist: # each entry is a dictionary with pillarone, pillartwo, pillarthree and pillarfour\n",
    "        date=parse_date(entry['date'])\n",
    "        for column in ['pillarone', 'pillartwo', 'pillarthree','pillarfour']:\n",
    "            if pd.isna(timeseriesdf.loc[date, column]): \n",
    "                value= float(entry[column]) if entry[column]!=None else 0.1\n",
    "                timeseriesdf.loc[date, column]=value\n",
    "    timeseriesdf.fillna(0.0, inplace=True)\n",
    "    timeseriesdf.to_pickle(\"timeseriesdf.pkl\")"
   ]
  },
  {
   "cell_type": "code",
   "execution_count": 62,
   "metadata": {},
   "outputs": [],
   "source": [
    "wrangle_data(data_E)\n",
    "timeseriesdfE=pd.read_pickle(\"timeseriesdf.pkl\")\n",
    "wrangle_data(data_S)\n",
    "timeseriesdfS=pd.read_pickle(\"timeseriesdf.pkl\")\n",
    "wrangle_data(data_W)\n",
    "timeseriesdfW=pd.read_pickle(\"timeseriesdf.pkl\")\n",
    "wrangle_data(data_NI)\n",
    "timeseriesdfNI=pd.read_pickle(\"timeseriesdf.pkl\")\n",
    "# Create a widget for the user to select columns\n",
    "series=wdg.SelectMultiple(\n",
    "    options=['pillarone', 'pillartwo', 'pillarthree','pillarfour'],\n",
    "    value=['pillarone', 'pillartwo', 'pillarthree','pillarfour'],\n",
    "    rows=4,\n",
    "    description='Stats:',\n",
    "    disabled=False\n",
    ")\n",
    "# creat a widget for the use to select region\n",
    "region = wdg.RadioButtons(\n",
    "    options=['England', 'Wale', 'Scotland','Northern Ireland'],\n",
    "    description='Region:',\n",
    "    disabled=False\n",
    ")\n",
    "\n",
    "# Create a button to allow users to flick between log and linear displays\n",
    "scale=wdg.RadioButtons(\n",
    "    options=['linear', 'log'],\n",
    "#    value='pineapple', # Defaults to 'pineapple'\n",
    "#    layout={'width': 'max-content'}, # If the items' names are long\n",
    "    description='Scale:',\n",
    "    disabled=False\n",
    ")\n",
    "\n",
    "\n",
    "# Create a button to allow users to refresh the data\n",
    "ni_apibutton=wdg.Button(\n",
    "    description='Refresh Data',\n",
    "    disabled=False,\n",
    "    button_style='primary', \n",
    "    tooltip=\"Click to refresh the data in the graph\",\n",
    "    icon='refresh'\n",
    ")\n",
    "\n",
    "# try replacing HBox with a VBox\n",
    "\n",
    "def timeseries_graph(gcols, gscale, gregion):\n",
    "    if gscale=='linear':\n",
    "        logscale=False\n",
    "    else:\n",
    "        logscale=True\n",
    "    ncols=len(gcols)\n",
    "    if ncols>0 and gregion == 'England':\n",
    "              timeseriesdfE[list(gcols)].plot(logy=logscale)\n",
    "    if ncols>0 and gregion =='Wale':\n",
    "              timeseriesdfW[list(gcols)].plot(logy=logscale)\n",
    "    if ncols>0 and gregion =='Scotland':\n",
    "              timeseriesdfS[list(gcols)].plot(logy=logscale)\n",
    "    if ncols>0 and gregion =='Northern Ireland':\n",
    "              timeseriesdfNI[list(gcols)].plot(logy=logscale)\n",
    "    else:\n",
    "        print(\"Click to select data for graph\")\n",
    "        print(\"(CTRL-Click to select more than one category)\")\n",
    "\n",
    "# keep calling timeseries_graph(gcols=value_of_series, gscale=value_of_scale); capture output in variable graph   \n",
    "graph=wdg.interactive_output(timeseries_graph, {'gcols': series, 'gscale': scale,'gregion':region})"
   ]
  },
  {
   "cell_type": "code",
   "execution_count": 71,
   "metadata": {},
   "outputs": [
    {
     "data": {
      "application/vnd.jupyter.widget-view+json": {
       "model_id": "026749debd744f6185b4734d6b6ec9d3",
       "version_major": 2,
       "version_minor": 0
      },
      "text/plain": [
       "Button(button_style='primary', description='Refresh Data', icon='refresh', style=ButtonStyle(), tooltip='Click…"
      ]
     },
     "metadata": {},
     "output_type": "display_data"
    }
   ],
   "source": [
    "\n",
    "def api_button_callback(button):\n",
    "    \"\"\" Button callback - it must take the button as its para to accesses API, wrangles data, updates global variable df used for plotting. \"\"\"\n",
    "\n",
    "    # Try calling the api\n",
    "\n",
    "    try:\n",
    "        Access_API_England()\n",
    "        Access_API_Scotland()\n",
    "        Access_API_Wale()\n",
    "        Access_API_NorthernIreland()\n",
    "\n",
    "            # Format the data for plotting\n",
    "\n",
    "        wrangle_data(data)\n",
    "\n",
    "            # Trigger the graph to refresh\n",
    "\n",
    "        refresh_graph()\n",
    "\n",
    "            # Update the Button to show the API was successful\n",
    "\n",
    "        apibutton.description = 'Successful!'\n",
    "        apibutton.icon = 'check'\n",
    "        apibutton.button_style = 'success'\n",
    "        apibutton.disabled = True\n",
    "        time.sleep(3)\n",
    "\n",
    "            # Reset the Button\n",
    "\n",
    "        apibutton.description = 'Refresh Data'\n",
    "        apibutton.icon = 'refresh'\n",
    "        apibutton.button_style = 'primary'\n",
    "        apibutton.disabled = False\n",
    "    except:\n",
    "\n",
    "            # Update the Button to show the API failed\n",
    "\n",
    "        apibutton.description = 'Error'\n",
    "        apibutton.icon = 'fa-exclamation-triangle'\n",
    "        apibutton.button_style = 'warning'\n",
    "        apibutton.disabled = True\n",
    "        time.sleep(3)\n",
    "\n",
    "            # Reset the Button\n",
    "\n",
    "        apibutton.description = 'Refresh Data'\n",
    "        apibutton.icon = 'refresh'\n",
    "        apibutton.button_style = 'primary'\n",
    "        apibutton.disabled = False\n",
    "apibutton.on_click(api_button_callback)\n",
    "display(apibutton)"
   ]
  },
  {
   "cell_type": "code",
   "execution_count": 69,
   "metadata": {},
   "outputs": [
    {
     "data": {
      "application/vnd.jupyter.widget-view+json": {
       "model_id": "03cbfd55816049f4903d8ad8ebfc1933",
       "version_major": 2,
       "version_minor": 0
      },
      "text/plain": [
       "HBox(children=(Output(outputs=({'output_type': 'stream', 'text': 'Click to select data for graph\\n(CTRL-Click …"
      ]
     },
     "metadata": {},
     "output_type": "display_data"
    }
   ],
   "source": [
    "# stack series and scale on top of each other\n",
    "ctrls=wdg.VBox([series, scale,region])\n",
    "# put the graph and the controls side by side\n",
    "form=wdg.HBox([graph, ctrls])\n",
    "display(form)"
   ]
  }
 ],
 "metadata": {
  "kernelspec": {
   "display_name": "Python 3",
   "language": "python",
   "name": "python3"
  },
  "language_info": {
   "codemirror_mode": {
    "name": "ipython",
    "version": 3
   },
   "file_extension": ".py",
   "mimetype": "text/x-python",
   "name": "python",
   "nbconvert_exporter": "python",
   "pygments_lexer": "ipython3",
   "version": "3.8.3"
  }
 },
 "nbformat": 4,
 "nbformat_minor": 4
}
